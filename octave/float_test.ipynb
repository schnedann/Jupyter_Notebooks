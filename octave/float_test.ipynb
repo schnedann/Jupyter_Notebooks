{
 "cells": [
  {
   "cell_type": "code",
   "execution_count": 1,
   "metadata": {},
   "outputs": [
    {
     "name": "stdout",
     "output_type": "stream",
     "text": [
      "a = 1.1755e-38\n",
      "b = 100\n",
      "c = 1.1755e-38\n",
      "ans = -8.5071e+39\n"
     ]
    }
   ],
   "source": [
    "a=1.17549e-38\n",
    "b=100.0\n",
    "c=1.17549e-38\n",
    "(-b .- sqrt(b.^2.0 .- 4.0.*a.*c))./(2.0.*a)"
   ]
  },
  {
   "cell_type": "code",
   "execution_count": 2,
   "metadata": {},
   "outputs": [
    {
     "name": "stdout",
     "output_type": "stream",
     "text": [
      "a = 2.2251e-308\n",
      "b = 100\n",
      "c = 2.2251e-308\n",
      "ans = -Inf\n"
     ]
    }
   ],
   "source": [
    "a=2.22507e-308\n",
    "b=100.0\n",
    "c=2.22507e-308\n",
    "(-b .- sqrt(b.^2.0 .- 4.0.*a.*c))./(2.0.*a)"
   ]
  },
  {
   "cell_type": "markdown",
   "metadata": {},
   "source": [
    "## Single precision Floating Point stalls in Series Calculation...\n",
    "\n",
    "Results get unusable after few Interations... (>15)"
   ]
  },
  {
   "cell_type": "code",
   "execution_count": 19,
   "metadata": {},
   "outputs": [
    {
     "name": "stdout",
     "output_type": "stream",
     "text": [
      "Golden_Mean = 0.6180340\n",
      "ans =\n",
      "\n",
      " Columns 1 through 4:\n",
      "\n",
      "  -1.64152051951e-08   2.98023223877e-08  -1.49011611938e-08   5.96046447754e-08\n",
      "\n",
      " Columns 5 through 8:\n",
      "\n",
      "  -6.70552253723e-08   1.41561031342e-07  -2.08616256714e-07   3.48314642906e-07\n",
      "\n",
      " Columns 9 through 12:\n",
      "\n",
      "  -5.55068254471e-07   9.05245542526e-07  -1.45938247442e-06   2.36486084759e-06\n",
      "\n",
      " Columns 13 through 16:\n",
      "\n",
      "  -3.82412690669e-06   6.18898775429e-06  -1.00129982457e-05   1.62019859999e-05\n",
      "\n",
      " Columns 17 through 20:\n",
      "\n",
      "  -2.62149551418e-05   4.24169702455e-05  -6.86319181114e-05   1.11048895633e-04\n",
      "\n",
      " Columns 21 through 24:\n",
      "\n",
      "  -1.79680813744e-04   2.90729714834e-04  -4.70410526759e-04   7.61140243412e-04\n",
      "\n",
      " Column 25:\n",
      "\n",
      "  -1.23155076972e-03\n",
      "\n"
     ]
    }
   ],
   "source": [
    "output_precision (12)\n",
    "Golden_Mean = single((sqrt(5).-1)./2)\n",
    "#--- Calculate Power of Golden_Mean by multiplications\n",
    "GM_Power = zeros(1,25);\n",
    "GM_Power(:,1)=double((sqrt(5).-1)./2);\n",
    "for(ii=2:1:length(GM_Power))\n",
    "  GM_Power(:,ii) = Golden_Mean.^ii;\n",
    "endfor\n",
    "#disp(GM_Power)\n",
    "#--- Calculate Power of Golden_Mean by series of substractions\n",
    "GM_PowerX = zeros(1,25);\n",
    "GM_PowerX(:,1)=Golden_Mean;\n",
    "GM_Power_old = 1;\n",
    "for(ii=2:1:length(GM_PowerX))\n",
    "  GM_PowerX(:,ii) = GM_Power_old .- GM_PowerX(:,(ii.-1));\n",
    "  GM_Power_old = GM_PowerX(:,(ii.-1));\n",
    "endfor\n",
    "#disp(GM_PowerX)\n",
    "#--- Calculate Difference of results\n",
    "GM_Power.-GM_PowerX"
   ]
  }
 ],
 "metadata": {
  "kernelspec": {
   "display_name": "Octave",
   "language": "octave",
   "name": "octave"
  },
  "language_info": {
   "file_extension": ".m",
   "help_links": [
    {
     "text": "GNU Octave",
     "url": "https://www.gnu.org/software/octave/support.html"
    },
    {
     "text": "Octave Kernel",
     "url": "https://github.com/Calysto/octave_kernel"
    },
    {
     "text": "MetaKernel Magics",
     "url": "https://metakernel.readthedocs.io/en/latest/source/README.html"
    }
   ],
   "mimetype": "text/x-octave",
   "name": "octave",
   "version": "6.1.0"
  }
 },
 "nbformat": 4,
 "nbformat_minor": 4
}
